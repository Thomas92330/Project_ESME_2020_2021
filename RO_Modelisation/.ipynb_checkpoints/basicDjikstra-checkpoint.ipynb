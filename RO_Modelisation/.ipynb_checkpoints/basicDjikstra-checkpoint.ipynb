{
 "cells": [
  {
   "cell_type": "markdown",
   "metadata": {},
   "source": [
    "# DJIKSTRA'S SHORTEST PATH ALGORITHM"
   ]
  },
  {
   "cell_type": "markdown",
   "metadata": {},
   "source": [
    "Original code can be found on https://benalexkeen.com/implementing-djikstras-shortest-path-algorithm-with-python/"
   ]
  },
  {
   "cell_type": "markdown",
   "metadata": {},
   "source": [
    "### Graph definition"
   ]
  },
  {
   "cell_type": "markdown",
   "metadata": {},
   "source": [
    "self.edges is a dict of all possible next nodes <br>\n",
    "e.g. {'X': ['A', 'B', 'C', 'E'], ...} <br>\n",
    "self.weights has all the weights between two nodes, <br>\n",
    "with the two nodes as a tuple as the key <br>\n",
    "e.g. {('X', 'A'): 7, ('X', 'B'): 2, ...} <br>"
   ]
  },
  {
   "cell_type": "code",
   "execution_count": null,
   "metadata": {},
   "outputs": [],
   "source": [
    "from collections import defaultdict\n",
    "\n",
    "class Graph():\n",
    "    def __init__(self):\n",
    "        self.edges = defaultdict(list)\n",
    "        self.weights = {}\n",
    "    \n",
    "    def add_edge(self, from_node, to_node, weight):\n",
    "        # Note: assumes edges are bi-directional\n",
    "        self.edges[from_node].append(to_node)\n",
    "        self.edges[to_node].append(from_node)\n",
    "        self.weights[(from_node, to_node)] = weight\n",
    "        self.weights[(to_node, from_node)] = weight"
   ]
  },
  {
   "cell_type": "code",
   "execution_count": 2,
   "metadata": {},
   "outputs": [],
   "source": [
    "graph = Graph()"
   ]
  },
  {
   "cell_type": "markdown",
   "metadata": {},
   "source": [
    "Definition of our graph (each node and connection)"
   ]
  },
  {
   "cell_type": "code",
   "execution_count": 3,
   "metadata": {},
   "outputs": [],
   "source": [
    "edges = [\n",
    "    ('X', 'A', 7),\n",
    "    ('X', 'B', 2),\n",
    "    ('X', 'C', 3),\n",
    "    ('X', 'E', 4),\n",
    "    ('A', 'B', 3),\n",
    "    ('A', 'D', 4),\n",
    "    ('B', 'D', 4),\n",
    "    ('B', 'H', 5),\n",
    "    ('C', 'L', 2),\n",
    "    ('D', 'F', 1),\n",
    "    ('F', 'H', 3),\n",
    "    ('G', 'H', 2),\n",
    "    ('G', 'Y', 2),\n",
    "    ('I', 'J', 6),\n",
    "    ('I', 'K', 4),\n",
    "    ('I', 'L', 4),\n",
    "    ('J', 'L', 1),\n",
    "    ('K', 'Y', 5),\n",
    "]\n",
    "\n",
    "for edge in edges:\n",
    "    graph.add_edge(*edge)"
   ]
  },
  {
   "cell_type": "markdown",
   "metadata": {},
   "source": [
    "Now we need to implement our algorithm. <br>\n",
    " <br>\n",
    "At our starting node (X), we have the following choice: <br>\n",
    " <br>\n",
    "Visit A next at a cost of 7 <br>\n",
    "Visit B next at a cost of 2 <br>\n",
    "Visit C next at a cost of 3 <br>\n",
    "Visit E next at a cost of 4 <br>\n",
    "We choose the lowest cost option, to visit node B at a cost of 2. <br>\n",
    "We then have the following options: <br>\n",
    " <br>\n",
    "Visit A from X at a cost of 7 <br>\n",
    "Visit A from B at a cost of (2 + 3) = 5 <br>\n",
    "Visit D from B at a cost of (2 + 4) = 6 <br>\n",
    "Visit H from B at a cost of (2 + 5) = 7 <br>\n",
    "Visit C from X at a cost of 3 <br>\n",
    "Visit E from X at a cost of 4 <br>\n",
    "The next lowest cost item is visiting C from X, so we try that and then we are left with the above options, as well as: <br>\n",
    " <br>\n",
    "Visit L from C at a cost of (3 + 2) = 5 <br>\n",
    "Next we would visit E from X as the next lowest cost is 4. <br>\n",
    " <br>\n",
    "For each destination node that we visit, we note the possible next destinations and the total weight to visit that destination. If a destination is one we have seen before and the weight to visit is lower than it was previously, this new weight will take its place. For example <br>\n",
    " <br>\n",
    "Visiting A from X is a cost of 7 <br>\n",
    "But visiting A from X via B is a cost of 5 <br>\n",
    "Therefore we note that the shortest route to X is via B <br>\n",
    "We only need to keep a note of the previous destination node and the total weight to get there. <br>\n",
    " <br>\n",
    "We continue evaluating until the destination node weight is the lowest total weight of all possible options. <br>\n",
    " <br>\n",
    "In this trivial case it is easy to work out that the shortest path will be: <br>\n",
    "X -> B -> H -> G -> Y <br>\n",
    " <br>\n",
    "For a total weight of 11. <br>\n",
    " <br>\n",
    "In this case, we will end up with a note of: <br>\n",
    " <br>\n",
    "The shortest path to Y being via G at a weight of 11 <br>\n",
    "The shortest path to G is via H at a weight of 9 <br>\n",
    "The shortest path to H is via B at weight of 7 <br>\n",
    "The shortest path to B is directly from X at weight of 2 <br>\n",
    "And we can work backwards through this path to get all the nodes on the shortest path from X to Y. <br>\n",
    " <br>\n",
    "Once we have reached our destination, we continue searching until all possible paths are greater than 11; at that point we are certain that the shortest path is 11."
   ]
  },
  {
   "cell_type": "code",
   "execution_count": 4,
   "metadata": {},
   "outputs": [],
   "source": [
    "def dijsktra(graph, initial, end):\n",
    "    # shortest paths is a dict of nodes\n",
    "    # whose value is a tuple of (previous node, weight)\n",
    "    shortest_paths = {initial: (None, 0)}\n",
    "    current_node = initial\n",
    "    visited = set()\n",
    "    \n",
    "    while current_node != end:\n",
    "        visited.add(current_node)\n",
    "        destinations = graph.edges[current_node]\n",
    "        weight_to_current_node = shortest_paths[current_node][1]\n",
    "\n",
    "        for next_node in destinations:\n",
    "            weight = graph.weights[(current_node, next_node)] + weight_to_current_node\n",
    "            if next_node not in shortest_paths:\n",
    "                shortest_paths[next_node] = (current_node, weight)\n",
    "            else:\n",
    "                current_shortest_weight = shortest_paths[next_node][1]\n",
    "                if current_shortest_weight > weight:\n",
    "                    shortest_paths[next_node] = (current_node, weight)\n",
    "        \n",
    "        next_destinations = {node: shortest_paths[node] for node in shortest_paths if node not in visited}\n",
    "        if not next_destinations:\n",
    "            return \"Route Not Possible\"\n",
    "        # next node is the destination with the lowest weight\n",
    "        current_node = min(next_destinations, key=lambda k: next_destinations[k][1])\n",
    "    \n",
    "    # Work back through destinations in shortest path\n",
    "    path = []\n",
    "    while current_node is not None:\n",
    "        path.append(current_node)\n",
    "        next_node = shortest_paths[current_node][0]\n",
    "        current_node = next_node\n",
    "    # Reverse path\n",
    "    path = path[::-1]\n",
    "    return path"
   ]
  },
  {
   "cell_type": "code",
   "execution_count": 5,
   "metadata": {},
   "outputs": [
    {
     "data": {
      "text/plain": [
       "['X', 'B', 'H', 'G', 'Y']"
      ]
     },
     "execution_count": 5,
     "metadata": {},
     "output_type": "execute_result"
    }
   ],
   "source": [
    "dijsktra(graph, 'X', 'Y')"
   ]
  },
  {
   "cell_type": "code",
   "execution_count": null,
   "metadata": {},
   "outputs": [],
   "source": []
  }
 ],
 "metadata": {
  "kernelspec": {
   "display_name": "Python 3",
   "language": "python",
   "name": "python3"
  },
  "language_info": {
   "codemirror_mode": {
    "name": "ipython",
    "version": 3
   },
   "file_extension": ".py",
   "mimetype": "text/x-python",
   "name": "python",
   "nbconvert_exporter": "python",
   "pygments_lexer": "ipython3",
   "version": "3.7.6"
  }
 },
 "nbformat": 4,
 "nbformat_minor": 4
}
